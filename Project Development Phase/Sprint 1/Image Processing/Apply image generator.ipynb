{
 "cells": [
  {
   "cell_type": "markdown",
   "id": "0bd33397",
   "metadata": {},
   "source": [
    "# Team Id: PNT2022TMID11418"
   ]
  },
  {
   "cell_type": "markdown",
   "id": "9847a173",
   "metadata": {},
   "source": [
    "# Project: Real-Time Communication system powered by AI for specially abled"
   ]
  },
  {
   "cell_type": "markdown",
   "id": "7587472f",
   "metadata": {},
   "source": [
    "Image processing"
   ]
  },
  {
   "cell_type": "markdown",
   "id": "3920da28",
   "metadata": {},
   "source": [
    "Apply ImageDataGenerator Functionality To Train And Test Set"
   ]
  },
  {
   "cell_type": "code",
   "execution_count": 6,
   "id": "79e9c4e3",
   "metadata": {},
   "outputs": [],
   "source": [
    "from keras.preprocessing.image import ImageDataGenerator"
   ]
  },
  {
   "cell_type": "code",
   "execution_count": 7,
   "id": "d7fa3565",
   "metadata": {},
   "outputs": [],
   "source": [
    "train_datagen=ImageDataGenerator(rescale=1./255,shear_range=0.2,zoom_range=0.2,horizontal_flip=True)"
   ]
  },
  {
   "cell_type": "code",
   "execution_count": 8,
   "id": "1376b4a0",
   "metadata": {},
   "outputs": [],
   "source": [
    "test_datagen=ImageDataGenerator(rescale=1./255)"
   ]
  },
  {
   "cell_type": "markdown",
   "id": "7383b4a2",
   "metadata": {},
   "source": [
    "# IMPORTING tensorflow"
   ]
  },
  {
   "cell_type": "code",
   "execution_count": 9,
   "id": "5bdc4772",
   "metadata": {},
   "outputs": [],
   "source": [
    "import tensorflow as tf\n",
    "import os"
   ]
  },
  {
   "cell_type": "markdown",
   "id": "89c74790",
   "metadata": {},
   "source": [
    "# IMPORTING SEQUENTIAL, DENSE, FLATTEN LAYER"
   ]
  },
  {
   "cell_type": "code",
   "execution_count": 10,
   "id": "5702eb5f",
   "metadata": {},
   "outputs": [],
   "source": [
    "from tensorflow.keras.models import Sequential\n",
    "from tensorflow.keras.layers import Dense, Conv2D, Flatten, Dropout, MaxPooling2D\n",
    "from tensorflow.keras.preprocessing.image import ImageDataGenerator"
   ]
  },
  {
   "cell_type": "code",
   "execution_count": 11,
   "id": "67f699f9",
   "metadata": {},
   "outputs": [],
   "source": [
    "import numpy as np\n",
    "import matplotlib.pyplot as plt #to view graph in colab itself\n",
    "import IPython.display as display\n",
    "from PIL import Image\n",
    "import pathlib"
   ]
  },
  {
   "cell_type": "markdown",
   "id": "37751871",
   "metadata": {},
   "source": [
    "# Unzipping the dataset"
   ]
  },
  {
   "cell_type": "code",
   "execution_count": 12,
   "id": "2e93d158",
   "metadata": {},
   "outputs": [],
   "source": [
    "#!unzip conversation engine for deaf and dumb.zip"
   ]
  },
  {
   "cell_type": "code",
   "execution_count": 13,
   "id": "591b74bb",
   "metadata": {},
   "outputs": [
    {
     "name": "stdout",
     "output_type": "stream",
     "text": [
      "Requirement already satisfied: patool in c:\\users\\harini\\anaconda3\\lib\\site-packages (1.12)\n"
     ]
    }
   ],
   "source": [
    "!pip install patool"
   ]
  },
  {
   "cell_type": "code",
   "execution_count": 14,
   "id": "6bf9967c",
   "metadata": {},
   "outputs": [
    {
     "name": "stdout",
     "output_type": "stream",
     "text": [
      "patool: Extracting conversation engine for deaf and dumb.zip ...\n",
      "patool: ... conversation engine for deaf and dumb.zip extracted to `/content'.\n"
     ]
    },
    {
     "data": {
      "text/plain": [
       "'/content'"
      ]
     },
     "execution_count": 14,
     "metadata": {},
     "output_type": "execute_result"
    }
   ],
   "source": [
    "import patoolib\n",
    "patoolib.extract_archive(\"conversation engine for deaf and dumb.zip\",outdir=\"/content\")\n"
   ]
  },
  {
   "cell_type": "markdown",
   "id": "ea93b5ec",
   "metadata": {},
   "source": [
    "# Applying ImageDataGenerator to training set"
   ]
  },
  {
   "cell_type": "code",
   "execution_count": 15,
   "id": "bd12ecf9",
   "metadata": {
    "scrolled": true
   },
   "outputs": [
    {
     "name": "stdout",
     "output_type": "stream",
     "text": [
      "Found 15750 images belonging to 9 classes.\n"
     ]
    }
   ],
   "source": [
    "x_train=train_datagen.flow_from_directory('C://Users//Harini//conversation engine for deaf and dumb//Dataset//training_set',target_size=(64,64),batch_size=200,\n",
    "                                          class_mode='categorical',color_mode=\"grayscale\")"
   ]
  },
  {
   "cell_type": "markdown",
   "id": "9c6d7ebc",
   "metadata": {},
   "source": [
    "# Applying ImageDataGenerator to test set"
   ]
  },
  {
   "cell_type": "code",
   "execution_count": 16,
   "id": "fc0ab58c",
   "metadata": {},
   "outputs": [
    {
     "name": "stdout",
     "output_type": "stream",
     "text": [
      "Found 2250 images belonging to 9 classes.\n"
     ]
    }
   ],
   "source": [
    "x_test=test_datagen.flow_from_directory('/content/Dataset/test_set',target_size=(64,64),batch_size=200,\n",
    "                                          class_mode='categorical',color_mode=\"grayscale\")"
   ]
  }
 ],
 "metadata": {
  "kernelspec": {
   "display_name": "Python 3 (ipykernel)",
   "language": "python",
   "name": "python3"
  },
  "language_info": {
   "codemirror_mode": {
    "name": "ipython",
    "version": 3
   },
   "file_extension": ".py",
   "mimetype": "text/x-python",
   "name": "python",
   "nbconvert_exporter": "python",
   "pygments_lexer": "ipython3",
   "version": "3.9.7"
  }
 },
 "nbformat": 4,
 "nbformat_minor": 5
}
